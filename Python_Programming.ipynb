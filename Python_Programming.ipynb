{
  "nbformat": 4,
  "nbformat_minor": 0,
  "metadata": {
    "colab": {
      "provenance": []
    },
    "kernelspec": {
      "name": "python3",
      "display_name": "Python 3"
    },
    "language_info": {
      "name": "python"
    }
  },
  "cells": [
    {
      "cell_type": "code",
      "execution_count": null,
      "metadata": {
        "id": "c9EoNfF28mJw"
      },
      "outputs": [],
      "source": [
        "abc=1,000,000"
      ]
    },
    {
      "cell_type": "code",
      "source": [
        "class Employee():\n",
        "  pass\n",
        "emp_1=Employee()\n",
        "emp_2=Employee()\n",
        "print(emp_1)\n",
        "print(emp_2) "
      ],
      "metadata": {
        "colab": {
          "base_uri": "https://localhost:8080/"
        },
        "id": "Kn4lM3oUmN6N",
        "outputId": "21c7f2d2-3398-4638-f383-17641f4acff6"
      },
      "execution_count": null,
      "outputs": [
        {
          "output_type": "stream",
          "name": "stdout",
          "text": [
            "<__main__.Employee object at 0x7f2999a9c910>\n",
            "<__main__.Employee object at 0x7f2999a9c950>\n"
          ]
        }
      ]
    },
    {
      "cell_type": "code",
      "source": [
        "class Employee():\n",
        "  def __init__(self,fname,lname,pay):\n",
        "    self.fname=fname\n",
        "    self.lname=lname\n",
        "    self.salary=pay\n",
        "    self.email=self.fname'_'+self.lname+'@outlook.com'\n",
        "\n",
        "emp_1=Employee('Ram','Ravi'.40000)\n",
        "emp_2=Employee('sita','gita'.50000)\n",
        "print(emp_1.email)\n",
        "print(emp_2.email)"
      ],
      "metadata": {
        "colab": {
          "base_uri": "https://localhost:8080/",
          "height": 130
        },
        "id": "oIOIIerloJU_",
        "outputId": "23473ccc-23c3-47ff-e1ec-a283fc82bf42"
      },
      "execution_count": null,
      "outputs": [
        {
          "output_type": "error",
          "ename": "SyntaxError",
          "evalue": "ignored",
          "traceback": [
            "\u001b[0;36m  File \u001b[0;32m\"<ipython-input-11-9c96f34d9a69>\"\u001b[0;36m, line \u001b[0;32m6\u001b[0m\n\u001b[0;31m    self.email=self.fname'_'+self.lname+'@outlook.com'\u001b[0m\n\u001b[0m                           ^\u001b[0m\n\u001b[0;31mSyntaxError\u001b[0m\u001b[0;31m:\u001b[0m invalid syntax\n"
          ]
        }
      ]
    },
    {
      "cell_type": "code",
      "source": [
        "class Computer:\n",
        "  def config(self):\n",
        "    print(\"i5,16gb,1Tb\")\n",
        "\n",
        "com1=Computer()\n",
        "Computer.config(com1)    \n",
        "  "
      ],
      "metadata": {
        "colab": {
          "base_uri": "https://localhost:8080/"
        },
        "id": "2EH4t8YUq6wu",
        "outputId": "2b844be4-9631-4cb3-af20-b63689f99b3f"
      },
      "execution_count": null,
      "outputs": [
        {
          "output_type": "stream",
          "name": "stdout",
          "text": [
            "i5,16gb,1Tb\n"
          ]
        }
      ]
    },
    {
      "cell_type": "code",
      "source": [
        "class Computer:\n",
        "  def config(self):\n",
        "    print(\"i5,16gb,1Tb\")\n",
        "\n",
        "com1=Computer()\n",
        "com2=Computer()\n",
        "Computer.config(com1)    \n",
        "Computer.config(com2)    \n",
        "    "
      ],
      "metadata": {
        "colab": {
          "base_uri": "https://localhost:8080/"
        },
        "id": "yjrdcOJBzAls",
        "outputId": "af1928c1-63e6-48c5-bfcb-72c6ba9609e7"
      },
      "execution_count": null,
      "outputs": [
        {
          "output_type": "stream",
          "name": "stdout",
          "text": [
            "i5,16gb,1Tb\n",
            "i5,16gb,1Tb\n"
          ]
        }
      ]
    },
    {
      "cell_type": "code",
      "source": [
        "class Employee():\n",
        "  hike=1.02\n",
        "  def __init__(self,fname,lname,pay):\n",
        "    self."
      ],
      "metadata": {
        "id": "VHwRZuOGoKAh"
      },
      "execution_count": null,
      "outputs": []
    },
    {
      "cell_type": "code",
      "source": [
        "A0=dict(zip(('a','b','c','d','e'),(1,2,3,4,5)))\n",
        "A0"
      ],
      "metadata": {
        "colab": {
          "base_uri": "https://localhost:8080/"
        },
        "id": "d9q5QTalxHus",
        "outputId": "91a61a3b-b69d-4ea7-f2e4-c7cead3bfd23"
      },
      "execution_count": null,
      "outputs": [
        {
          "output_type": "execute_result",
          "data": {
            "text/plain": [
              "{'a': 1, 'b': 2, 'c': 3, 'd': 4, 'e': 5}"
            ]
          },
          "metadata": {},
          "execution_count": 2
        }
      ]
    },
    {
      "cell_type": "code",
      "source": [
        "A1=range(10)\n",
        "A1"
      ],
      "metadata": {
        "colab": {
          "base_uri": "https://localhost:8080/"
        },
        "id": "IgLemlXczkl_",
        "outputId": "645466b1-6a05-4e84-a7c9-3e88de724bd8"
      },
      "execution_count": null,
      "outputs": [
        {
          "output_type": "execute_result",
          "data": {
            "text/plain": [
              "range(0, 10)"
            ]
          },
          "metadata": {},
          "execution_count": 3
        }
      ]
    },
    {
      "cell_type": "code",
      "source": [
        "A2=sorted([i for i in A1 if i in A0])\n",
        "A0\n",
        "1 in A0"
      ],
      "metadata": {
        "colab": {
          "base_uri": "https://localhost:8080/"
        },
        "id": "CXZd-ZTfzvax",
        "outputId": "06f2d899-917b-4b63-bf83-12da79923861"
      },
      "execution_count": null,
      "outputs": [
        {
          "output_type": "execute_result",
          "data": {
            "text/plain": [
              "False"
            ]
          },
          "metadata": {},
          "execution_count": 9
        }
      ]
    },
    {
      "cell_type": "code",
      "source": [
        "A3=sorted([A0[s] for s in A0])\n",
        "A3"
      ],
      "metadata": {
        "colab": {
          "base_uri": "https://localhost:8080/"
        },
        "id": "DVcJ-X310sTm",
        "outputId": "60f6b0f6-211f-4954-8cf1-15bfd88d74ba"
      },
      "execution_count": null,
      "outputs": [
        {
          "output_type": "execute_result",
          "data": {
            "text/plain": [
              "[1, 2, 3, 4, 5]"
            ]
          },
          "metadata": {},
          "execution_count": 10
        }
      ]
    },
    {
      "cell_type": "code",
      "source": [
        "A4=[i for i in A1 if i in A3]\n",
        "A4"
      ],
      "metadata": {
        "colab": {
          "base_uri": "https://localhost:8080/"
        },
        "id": "I4Ff99Q_068M",
        "outputId": "80450dfe-0e3c-4392-a780-8039899ada08"
      },
      "execution_count": null,
      "outputs": [
        {
          "output_type": "execute_result",
          "data": {
            "text/plain": [
              "[1, 2, 3, 4, 5]"
            ]
          },
          "metadata": {},
          "execution_count": 11
        }
      ]
    },
    {
      "cell_type": "code",
      "source": [
        "A5={i:i*i for i in A1}\n",
        "A5"
      ],
      "metadata": {
        "colab": {
          "base_uri": "https://localhost:8080/"
        },
        "id": "dp_8xg_31aWS",
        "outputId": "8442defa-010a-446d-f8c7-5ad6e930114c"
      },
      "execution_count": null,
      "outputs": [
        {
          "output_type": "execute_result",
          "data": {
            "text/plain": [
              "{0: 0, 1: 1, 2: 4, 3: 9, 4: 16, 5: 25, 6: 36, 7: 49, 8: 64, 9: 81}"
            ]
          },
          "metadata": {},
          "execution_count": 14
        }
      ]
    },
    {
      "cell_type": "code",
      "source": [
        "for i in A1:\n",
        "  print(f'{i}:{i*i}')"
      ],
      "metadata": {
        "colab": {
          "base_uri": "https://localhost:8080/"
        },
        "id": "dWNjjjMc2NFh",
        "outputId": "fc50b740-ad95-4e3e-9d17-ddc296ca1b8f"
      },
      "execution_count": null,
      "outputs": [
        {
          "output_type": "stream",
          "name": "stdout",
          "text": [
            "0:0\n",
            "1:1\n",
            "2:4\n",
            "3:9\n",
            "4:16\n",
            "5:25\n",
            "6:36\n",
            "7:49\n",
            "8:64\n",
            "9:81\n"
          ]
        }
      ]
    },
    {
      "cell_type": "code",
      "source": [
        "A6=[[i,i*i] for i in A1]\n",
        "A6"
      ],
      "metadata": {
        "colab": {
          "base_uri": "https://localhost:8080/"
        },
        "id": "0Xm1cRNu2uoF",
        "outputId": "05e4e7eb-7711-4f9e-e22a-dc15403046ee"
      },
      "execution_count": null,
      "outputs": [
        {
          "output_type": "execute_result",
          "data": {
            "text/plain": [
              "[[0, 0],\n",
              " [1, 1],\n",
              " [2, 4],\n",
              " [3, 9],\n",
              " [4, 16],\n",
              " [5, 25],\n",
              " [6, 36],\n",
              " [7, 49],\n",
              " [8, 64],\n",
              " [9, 81]]"
            ]
          },
          "metadata": {},
          "execution_count": 16
        }
      ]
    },
    {
      "cell_type": "code",
      "source": [
        "def printinfo(name,age):\n",
        "  print(f'Name is {name},age is {age}')\n",
        "printinfo(20,'sweety')"
      ],
      "metadata": {
        "colab": {
          "base_uri": "https://localhost:8080/"
        },
        "id": "427ovxqu0-vS",
        "outputId": "d630609b-6874-4c3b-dedd-e5450a044c27"
      },
      "execution_count": null,
      "outputs": [
        {
          "output_type": "stream",
          "name": "stdout",
          "text": [
            "Name is 20,age is sweety\n"
          ]
        }
      ]
    },
    {
      "cell_type": "code",
      "source": [
        "printinfo(20,'sweety')"
      ],
      "metadata": {
        "colab": {
          "base_uri": "https://localhost:8080/"
        },
        "id": "nreG5s_a6uFL",
        "outputId": "c40a6aa3-5ce3-465a-ff7b-15ae7bf7147b"
      },
      "execution_count": null,
      "outputs": [
        {
          "output_type": "stream",
          "name": "stdout",
          "text": [
            "Name is 20,age is sweety\n"
          ]
        }
      ]
    },
    {
      "cell_type": "code",
      "source": [
        "def student_marks(student_name,*marks):\n",
        "  for itr in marks:\n",
        "    print(f'student {student_name} has obtained {itr} marks')\n",
        "student_marks('A',10,20,30)    "
      ],
      "metadata": {
        "colab": {
          "base_uri": "https://localhost:8080/"
        },
        "id": "hRCs_nOy7Vwe",
        "outputId": "f37969e8-f1c9-4822-d8f6-2097b013c338"
      },
      "execution_count": null,
      "outputs": [
        {
          "output_type": "stream",
          "name": "stdout",
          "text": [
            "student A has obtained 10 marks\n",
            "student A has obtained 20 marks\n",
            "student A has obtained 30 marks\n"
          ]
        }
      ]
    },
    {
      "cell_type": "code",
      "source": [
        "def student_marks(name,**stud_marks):\n",
        "  for k,v in stud_marks.items():\n",
        "    print(f'Student {name} has obtained {v} marks in {k} subject')\n",
        "student_marks('B',Phy=40,Chem=35,Math=95,Python=90)    "
      ],
      "metadata": {
        "colab": {
          "base_uri": "https://localhost:8080/"
        },
        "id": "DZAY2ZhDycj3",
        "outputId": "acd36b69-f12a-4688-8abb-157edfe20c0d"
      },
      "execution_count": null,
      "outputs": [
        {
          "output_type": "stream",
          "name": "stdout",
          "text": [
            "Student B has obtained 40 marks in Phy subject\n",
            "Student B has obtained 35 marks in Chem subject\n",
            "Student B has obtained 95 marks in Math subject\n",
            "Student B has obtained 90 marks in Python subject\n"
          ]
        }
      ]
    },
    {
      "cell_type": "code",
      "source": [
        "lambda r:pi*r**2(10)\n",
        "a=lambda r:pi*r**2\n",
        "a(10)"
      ],
      "metadata": {
        "colab": {
          "base_uri": "https://localhost:8080/"
        },
        "id": "JhnSmTZJ11Fy",
        "outputId": "33806f31-d83d-4b86-c9e3-ace1f0035859"
      },
      "execution_count": null,
      "outputs": [
        {
          "output_type": "execute_result",
          "data": {
            "text/plain": [
              "314.1592653589793"
            ]
          },
          "metadata": {},
          "execution_count": 8
        }
      ]
    },
    {
      "cell_type": "code",
      "source": [
        "sum_nums= lambda n1,n2:n1+n2\n",
        "sum_nums(10,30)\n"
      ],
      "metadata": {
        "colab": {
          "base_uri": "https://localhost:8080/"
        },
        "id": "GoGGEp7F3MEA",
        "outputId": "1bc9ad70-7af7-41a8-c928-0ff545b59ef3"
      },
      "execution_count": null,
      "outputs": [
        {
          "output_type": "execute_result",
          "data": {
            "text/plain": [
              "40"
            ]
          },
          "metadata": {},
          "execution_count": 9
        }
      ]
    },
    {
      "cell_type": "code",
      "source": [
        "def scopes():\n",
        "  a=10\n",
        "  print(f'a is{a}')\n",
        "a=20\n",
        "print(a)  \n",
        "  "
      ],
      "metadata": {
        "colab": {
          "base_uri": "https://localhost:8080/"
        },
        "id": "aMCI3Wrq46NI",
        "outputId": "0e7be036-a202-4ab7-9e6a-2ab871d5e7bd"
      },
      "execution_count": null,
      "outputs": [
        {
          "output_type": "stream",
          "name": "stdout",
          "text": [
            "20\n"
          ]
        }
      ]
    },
    {
      "cell_type": "code",
      "source": [
        "scopes()"
      ],
      "metadata": {
        "colab": {
          "base_uri": "https://localhost:8080/"
        },
        "id": "UTB9Sehb5U8p",
        "outputId": "26876ea8-c19b-464d-eeb4-dca7d900b530"
      },
      "execution_count": null,
      "outputs": [
        {
          "output_type": "stream",
          "name": "stdout",
          "text": [
            "a is10\n"
          ]
        }
      ]
    },
    {
      "cell_type": "code",
      "source": [
        "def scopes1():\n",
        "  print(a)\n",
        "scopes1()"
      ],
      "metadata": {
        "colab": {
          "base_uri": "https://localhost:8080/"
        },
        "id": "N6GJ7-Hz5ZZB",
        "outputId": "3aa4b277-bc9b-4fca-fe0f-c5009ff5131f"
      },
      "execution_count": null,
      "outputs": [
        {
          "output_type": "stream",
          "name": "stdout",
          "text": [
            "20\n"
          ]
        }
      ]
    },
    {
      "cell_type": "code",
      "source": [
        "def scopes1():\n",
        "  global a\n",
        "  a=30\n",
        "scopes1() \n",
        "a\n",
        "\n"
      ],
      "metadata": {
        "colab": {
          "base_uri": "https://localhost:8080/"
        },
        "id": "x-49v0w35qIh",
        "outputId": "d0d805f8-10ff-47a9-9d6e-0b3da9a28231"
      },
      "execution_count": null,
      "outputs": [
        {
          "output_type": "execute_result",
          "data": {
            "text/plain": [
              "30"
            ]
          },
          "metadata": {},
          "execution_count": 17
        }
      ]
    },
    {
      "cell_type": "code",
      "source": [
        "tup1_nums=(10,20.30,40)\n",
        "lst_nums=[]\n",
        "def sqr_nums(tup_nums):\n",
        "  lst_sqrs=[itr**2 for itr in tup_nums]\n",
        "  print(lst_sqrs)\n",
        "\n",
        "sqrs_nums(tup1_nums)  "
      ],
      "metadata": {
        "id": "K1EbGHRH74tM"
      },
      "execution_count": null,
      "outputs": []
    },
    {
      "cell_type": "code",
      "source": [
        "def area_of_circle(r):\n",
        "  return 3.142*r**2\n",
        "from math import pi\n",
        "pi  "
      ],
      "metadata": {
        "colab": {
          "base_uri": "https://localhost:8080/"
        },
        "id": "A7JRbl8C0wg3",
        "outputId": "a1d274e9-b3bf-4a4d-8b21-46a6bb5be0ef"
      },
      "execution_count": null,
      "outputs": [
        {
          "output_type": "execute_result",
          "data": {
            "text/plain": [
              "3.141592653589793"
            ]
          },
          "metadata": {},
          "execution_count": 4
        }
      ]
    },
    {
      "cell_type": "code",
      "source": [
        "for i in range(5):\n",
        "  for j in range(1,i+1):\n",
        "    print(i, end=\" \")\n",
        "  print('\\n')  "
      ],
      "metadata": {
        "colab": {
          "base_uri": "https://localhost:8080/"
        },
        "id": "Cg1RaXo5oo0S",
        "outputId": "d774c176-d685-480a-97bf-5fe2dac5594d"
      },
      "execution_count": null,
      "outputs": [
        {
          "output_type": "stream",
          "name": "stdout",
          "text": [
            "\n",
            "\n",
            "1 \n",
            "\n",
            "2 2 \n",
            "\n",
            "3 3 3 \n",
            "\n",
            "4 4 4 4 \n",
            "\n"
          ]
        }
      ]
    },
    {
      "cell_type": "code",
      "source": [
        "for itr in range(5):\n",
        "  print(str(itr)*i)"
      ],
      "metadata": {
        "colab": {
          "base_uri": "https://localhost:8080/"
        },
        "id": "F69bQcFjqv9M",
        "outputId": "47e248db-b391-43f1-852f-71fa7d0a1da0"
      },
      "execution_count": null,
      "outputs": [
        {
          "output_type": "stream",
          "name": "stdout",
          "text": [
            "0000\n",
            "1111\n",
            "2222\n",
            "3333\n",
            "4444\n"
          ]
        }
      ]
    },
    {
      "cell_type": "code",
      "source": [
        "for itr in range(5):\n",
        "  print(str(itr)*itr)"
      ],
      "metadata": {
        "colab": {
          "base_uri": "https://localhost:8080/"
        },
        "id": "1WZiV6E7rk0_",
        "outputId": "c498648f-d7ca-4608-f268-b39670b551ab"
      },
      "execution_count": null,
      "outputs": [
        {
          "output_type": "stream",
          "name": "stdout",
          "text": [
            "\n",
            "1\n",
            "22\n",
            "333\n",
            "4444\n"
          ]
        }
      ]
    },
    {
      "cell_type": "code",
      "source": [
        "for itr in range(5):\n",
        "  print(str(itr)*itr,end=' ')"
      ],
      "metadata": {
        "colab": {
          "base_uri": "https://localhost:8080/"
        },
        "id": "jvFbcLevr6L7",
        "outputId": "7bbeb79f-c041-40b9-fc2b-dfa5036d6ca8"
      },
      "execution_count": null,
      "outputs": [
        {
          "output_type": "stream",
          "name": "stdout",
          "text": [
            " 1 22 333 4444 "
          ]
        }
      ]
    },
    {
      "cell_type": "code",
      "source": [
        "from math import ceil,floor\n",
        "def ceil(n):\n",
        "  return n**2\n",
        "ceil(16.789)  "
      ],
      "metadata": {
        "colab": {
          "base_uri": "https://localhost:8080/"
        },
        "id": "z70AL0W9sI46",
        "outputId": "ea349bce-ae07-4a93-9207-d03cf2d43571"
      },
      "execution_count": null,
      "outputs": [
        {
          "output_type": "execute_result",
          "data": {
            "text/plain": [
              "281.87052100000005"
            ]
          },
          "metadata": {},
          "execution_count": 11
        }
      ]
    },
    {
      "cell_type": "code",
      "source": [
        "from math import ceil,floor\n",
        "ceil(16.789)"
      ],
      "metadata": {
        "colab": {
          "base_uri": "https://localhost:8080/"
        },
        "id": "aJaSvAi8yZ1S",
        "outputId": "5ed25a91-d0a7-4e54-8f03-ee86452aff3f"
      },
      "execution_count": null,
      "outputs": [
        {
          "output_type": "execute_result",
          "data": {
            "text/plain": [
              "17"
            ]
          },
          "metadata": {},
          "execution_count": 12
        }
      ]
    },
    {
      "cell_type": "code",
      "source": [
        "import os \n",
        "os.getcwd()"
      ],
      "metadata": {
        "colab": {
          "base_uri": "https://localhost:8080/",
          "height": 36
        },
        "id": "9F_cLGJy0dvi",
        "outputId": "b46c482d-437c-4a55-e56d-47961fe82387"
      },
      "execution_count": null,
      "outputs": [
        {
          "output_type": "execute_result",
          "data": {
            "text/plain": [
              "'/content'"
            ],
            "application/vnd.google.colaboratory.intrinsic+json": {
              "type": "string"
            }
          },
          "metadata": {},
          "execution_count": 13
        }
      ]
    },
    {
      "cell_type": "code",
      "source": [
        "student_marks('B',20,30,40,50)"
      ],
      "metadata": {
        "colab": {
          "base_uri": "https://localhost:8080/"
        },
        "id": "s4-45LIa80PD",
        "outputId": "e3f3ba39-2b2d-48fb-d78f-679359a88c66"
      },
      "execution_count": null,
      "outputs": [
        {
          "output_type": "stream",
          "name": "stdout",
          "text": [
            "student B has obtained 20 marks\n",
            "student B has obtained 30 marks\n",
            "student B has obtained 40 marks\n",
            "student B has obtained 50 marks\n"
          ]
        }
      ]
    },
    {
      "cell_type": "code",
      "source": [
        "tup_names=('A','B','C')\n",
        "tup_age=(10,20,30)\n",
        "zip_name_age=zip(tup_names,tup_age)\n",
        "zip_name_age"
      ],
      "metadata": {
        "colab": {
          "base_uri": "https://localhost:8080/"
        },
        "id": "FN1YZuZmtaav",
        "outputId": "ec7842e2-b3b3-4665-f045-c30db079d3a8"
      },
      "execution_count": null,
      "outputs": [
        {
          "output_type": "execute_result",
          "data": {
            "text/plain": [
              "<zip at 0x7f0adbe0b190>"
            ]
          },
          "metadata": {},
          "execution_count": 3
        }
      ]
    },
    {
      "cell_type": "code",
      "source": [],
      "metadata": {
        "id": "J-TspYuPxfqN"
      },
      "execution_count": null,
      "outputs": []
    },
    {
      "cell_type": "code",
      "source": [
        "dict_name_age=dict(zip_name_age)\n",
        "dict_name_age"
      ],
      "metadata": {
        "colab": {
          "base_uri": "https://localhost:8080/"
        },
        "id": "d94BW3FFumNb",
        "outputId": "3e0372a7-ed03-42a1-a578-ca1dd46b7db4"
      },
      "execution_count": null,
      "outputs": [
        {
          "output_type": "execute_result",
          "data": {
            "text/plain": [
              "{'A': 10, 'B': 20, 'C': 30}"
            ]
          },
          "metadata": {},
          "execution_count": 4
        }
      ]
    },
    {
      "cell_type": "code",
      "source": [
        "list_name_age=list(zip_name_age)\n",
        "list_name_age"
      ],
      "metadata": {
        "colab": {
          "base_uri": "https://localhost:8080/"
        },
        "id": "GoCurc6Vu6io",
        "outputId": "796ec698-24ac-4a3b-d8c1-bd289937b98d"
      },
      "execution_count": null,
      "outputs": [
        {
          "output_type": "execute_result",
          "data": {
            "text/plain": [
              "[]"
            ]
          },
          "metadata": {},
          "execution_count": 5
        }
      ]
    },
    {
      "cell_type": "code",
      "source": [
        "zip_name_age=zip(tup_names,tup_age)\n",
        "for k,v in zip_name_age:\n",
        "  print(f'Key is{k},Value is {v}')\n",
        "  "
      ],
      "metadata": {
        "colab": {
          "base_uri": "https://localhost:8080/"
        },
        "id": "Jsz3hkuMvJxQ",
        "outputId": "65fe7fb6-a7b2-4f5f-8f09-68d905e7f5f5"
      },
      "execution_count": null,
      "outputs": [
        {
          "output_type": "stream",
          "name": "stdout",
          "text": [
            "Key isA,Value is 10\n",
            "Key isB,Value is 20\n",
            "Key isC,Value is 30\n"
          ]
        }
      ]
    },
    {
      "cell_type": "code",
      "source": [
        "d={'name':'Meghana','age':22,'place':'Hyderabad'}\n",
        "d"
      ],
      "metadata": {
        "colab": {
          "base_uri": "https://localhost:8080/"
        },
        "id": "AA_kn2RNDH08",
        "outputId": "48dbac91-f39b-403f-d7c7-e79c9afeba83"
      },
      "execution_count": null,
      "outputs": [
        {
          "output_type": "execute_result",
          "data": {
            "text/plain": [
              "{'name': 'Meghana', 'age': 22, 'place': 'Hyderabad'}"
            ]
          },
          "metadata": {},
          "execution_count": 4
        }
      ]
    },
    {
      "cell_type": "code",
      "source": [
        "d['age']"
      ],
      "metadata": {
        "colab": {
          "base_uri": "https://localhost:8080/"
        },
        "id": "KGijkcsUD6IZ",
        "outputId": "a6f21915-75bd-44b4-ed81-137e2955c713"
      },
      "execution_count": null,
      "outputs": [
        {
          "output_type": "execute_result",
          "data": {
            "text/plain": [
              "22"
            ]
          },
          "metadata": {},
          "execution_count": 5
        }
      ]
    },
    {
      "cell_type": "code",
      "source": [
        "age=30\n",
        "if age >0 and age <=13:\n",
        "  print('Ola, You are a Child')\n",
        "elif age >13 and age <18:\n",
        "  print('Namaste,You are a Teenager')\n",
        "else:\n",
        "  print('Hello,You are an Adult')    "
      ],
      "metadata": {
        "colab": {
          "base_uri": "https://localhost:8080/"
        },
        "id": "eFt04jzlzm4p",
        "outputId": "101f64a8-638e-43ff-a543-ce8fc04a2498"
      },
      "execution_count": null,
      "outputs": [
        {
          "output_type": "stream",
          "name": "stdout",
          "text": [
            "Hello,You are an Adult\n"
          ]
        }
      ]
    },
    {
      "cell_type": "code",
      "source": [
        "itr=0\n",
        "while True:\n",
        "  print(f'value of iterator is {itr},squared value is {itr**2}')\n",
        "  itr+=1\n",
        "  if itr==10:\n",
        "    break\n",
        "  elif itr==3:\n",
        "    continue\n",
        "  print('Hi,no break till now')"
      ],
      "metadata": {
        "colab": {
          "base_uri": "https://localhost:8080/"
        },
        "id": "jxhVtzF-1eSr",
        "outputId": "afaf6aaf-0fb2-433a-f515-3b1bd1601f5b"
      },
      "execution_count": null,
      "outputs": [
        {
          "output_type": "stream",
          "name": "stdout",
          "text": [
            "value of iterator is 0,squared value is 0\n",
            "Hi,no break till now\n",
            "value of iterator is 1,squared value is 1\n",
            "Hi,no break till now\n",
            "value of iterator is 2,squared value is 4\n",
            "value of iterator is 3,squared value is 9\n",
            "Hi,no break till now\n",
            "value of iterator is 4,squared value is 16\n",
            "Hi,no break till now\n",
            "value of iterator is 5,squared value is 25\n",
            "Hi,no break till now\n",
            "value of iterator is 6,squared value is 36\n",
            "Hi,no break till now\n",
            "value of iterator is 7,squared value is 49\n",
            "Hi,no break till now\n",
            "value of iterator is 8,squared value is 64\n",
            "Hi,no break till now\n",
            "value of iterator is 9,squared value is 81\n"
          ]
        }
      ]
    },
    {
      "cell_type": "code",
      "source": [
        "d['name']=['Meghana Reddy']\n",
        "d"
      ],
      "metadata": {
        "colab": {
          "base_uri": "https://localhost:8080/"
        },
        "id": "um-7rPcaEL4_",
        "outputId": "01c6079e-49b7-4edb-f45f-d84df2d82c65"
      },
      "execution_count": null,
      "outputs": [
        {
          "output_type": "execute_result",
          "data": {
            "text/plain": [
              "{'name': ['Meghana Reddy'], 'age': 22, 'place': 'Hyderabad'}"
            ]
          },
          "metadata": {},
          "execution_count": 7
        }
      ]
    },
    {
      "cell_type": "code",
      "source": [
        "def area_of_circle(r):\n",
        "  return 3.142*r**2\n",
        "area_of_circle(100)  \n",
        "                  "
      ],
      "metadata": {
        "colab": {
          "base_uri": "https://localhost:8080/"
        },
        "id": "dmwYJ8vz5QCW",
        "outputId": "de3637dd-7225-405c-87ed-1376d58a898f"
      },
      "execution_count": null,
      "outputs": [
        {
          "output_type": "execute_result",
          "data": {
            "text/plain": [
              "31420.0"
            ]
          },
          "metadata": {},
          "execution_count": 24
        }
      ]
    },
    {
      "cell_type": "code",
      "source": [
        "d={'name':'Meghana','age':22,'place':'Hyderabad'}\n",
        "d"
      ],
      "metadata": {
        "id": "n2Uxg84dEfYz"
      },
      "execution_count": null,
      "outputs": []
    },
    {
      "cell_type": "code",
      "source": [
        "for itr in range(20):\n",
        "  area_of_circle(itr)"
      ],
      "metadata": {
        "id": "0wQtTyW96XOy"
      },
      "execution_count": null,
      "outputs": []
    },
    {
      "cell_type": "code",
      "source": [
        "d['Topic_btech']=['Engineering Graphics','Embedded System']\n",
        "d"
      ],
      "metadata": {
        "colab": {
          "base_uri": "https://localhost:8080/"
        },
        "id": "DWfLf-lxPdUh",
        "outputId": "fb48d58a-70c0-463b-9764-942b20166616"
      },
      "execution_count": null,
      "outputs": [
        {
          "output_type": "execute_result",
          "data": {
            "text/plain": [
              "{'name': ['Meghana Reddy'],\n",
              " 'age': 22,\n",
              " 'place': 'Hyderabad',\n",
              " 'Topic_btech': ['Engineering Graphics', 'Embedded System']}"
            ]
          },
          "metadata": {},
          "execution_count": 9
        }
      ]
    },
    {
      "cell_type": "code",
      "source": [
        "d['btech_CGPA']=['overall:7.0']\n",
        "d"
      ],
      "metadata": {
        "colab": {
          "base_uri": "https://localhost:8080/"
        },
        "id": "QvdKr6IqQgEb",
        "outputId": "87ae850b-a562-4b5d-c3b3-47c4c06df63d"
      },
      "execution_count": null,
      "outputs": [
        {
          "output_type": "execute_result",
          "data": {
            "text/plain": [
              "{'name': ['Meghana Reddy'],\n",
              " 'age': 22,\n",
              " 'place': 'Hyderabad',\n",
              " 'Topic_btech': ['Engineering Graphics', 'Embedded System'],\n",
              " 'btech_CGPA': ['overall:7.0']}"
            ]
          },
          "metadata": {},
          "execution_count": 11
        }
      ]
    },
    {
      "cell_type": "code",
      "source": [
        "d.pop('Topic_btech')"
      ],
      "metadata": {
        "colab": {
          "base_uri": "https://localhost:8080/"
        },
        "id": "9ljNVl6cRMDZ",
        "outputId": "916fd88a-7ced-456c-f676-71aa57936888"
      },
      "execution_count": null,
      "outputs": [
        {
          "output_type": "execute_result",
          "data": {
            "text/plain": [
              "['Engineering Graphics', 'Embedded System']"
            ]
          },
          "metadata": {},
          "execution_count": 13
        }
      ]
    },
    {
      "cell_type": "code",
      "source": [
        "d"
      ],
      "metadata": {
        "colab": {
          "base_uri": "https://localhost:8080/"
        },
        "id": "691HYupnRyji",
        "outputId": "575b7e6b-bfaa-48bd-996d-6ff4b9531c83"
      },
      "execution_count": null,
      "outputs": [
        {
          "output_type": "execute_result",
          "data": {
            "text/plain": [
              "{'name': ['Meghana Reddy'],\n",
              " 'age': 22,\n",
              " 'place': 'Hyderabad',\n",
              " 'btech_CGPA': ['overall:7.0']}"
            ]
          },
          "metadata": {},
          "execution_count": 14
        }
      ]
    },
    {
      "cell_type": "code",
      "source": [
        "del(d['age'])\n",
        "d"
      ],
      "metadata": {
        "colab": {
          "base_uri": "https://localhost:8080/"
        },
        "id": "SOueDluER-7g",
        "outputId": "10a07eae-cdf3-4490-8cfc-baa5ad7b1138"
      },
      "execution_count": null,
      "outputs": [
        {
          "output_type": "execute_result",
          "data": {
            "text/plain": [
              "{'name': ['Meghana Reddy'],\n",
              " 'place': 'Hyderabad',\n",
              " 'btech_CGPA': ['overall:7.0']}"
            ]
          },
          "metadata": {},
          "execution_count": 16
        }
      ]
    },
    {
      "cell_type": "code",
      "source": [
        "telnumbers={'mobile_home':99485,'mobile_clg':63034}\n",
        "d['telnumbers']={'mobile_home':99485,'mobile_clg':63034}\n",
        "d['adhar_num']=12345\n",
        "d['pan_num']=67891\n",
        "d"
      ],
      "metadata": {
        "colab": {
          "base_uri": "https://localhost:8080/"
        },
        "id": "CmrN9g0ZSPVZ",
        "outputId": "7941958a-2427-4a82-9240-8dac8d66f9f1"
      },
      "execution_count": null,
      "outputs": [
        {
          "output_type": "execute_result",
          "data": {
            "text/plain": [
              "{'name': ['Meghana Reddy'],\n",
              " 'place': 'Hyderabad',\n",
              " 'btech_CGPA': ['overall:7.0'],\n",
              " 'telnumbers': {'mobile_home': 99485, 'mobile_clg': 63034},\n",
              " 'adhar_num': 12345,\n",
              " 'pan_num': 67891}"
            ]
          },
          "metadata": {},
          "execution_count": 17
        }
      ]
    },
    {
      "cell_type": "code",
      "source": [
        "d.keys()"
      ],
      "metadata": {
        "colab": {
          "base_uri": "https://localhost:8080/"
        },
        "id": "IE6ARprpWSlV",
        "outputId": "35a0e089-fb12-4017-cd5f-b00bf541805a"
      },
      "execution_count": null,
      "outputs": [
        {
          "output_type": "execute_result",
          "data": {
            "text/plain": [
              "dict_keys(['name', 'place', 'btech_CGPA', 'telnumbers', 'adhar_num', 'pan_num'])"
            ]
          },
          "metadata": {},
          "execution_count": 18
        }
      ]
    },
    {
      "cell_type": "code",
      "source": [
        "d.values()"
      ],
      "metadata": {
        "colab": {
          "base_uri": "https://localhost:8080/"
        },
        "id": "khWcqcSbWWVh",
        "outputId": "604afc3e-b9eb-41b5-a6ac-e136aa4a1669"
      },
      "execution_count": null,
      "outputs": [
        {
          "output_type": "execute_result",
          "data": {
            "text/plain": [
              "dict_values([['Meghana Reddy'], 'Hyderabad', ['overall:7.0'], {'mobile_home': 99485, 'mobile_clg': 63034}, 12345, 67891])"
            ]
          },
          "metadata": {},
          "execution_count": 19
        }
      ]
    },
    {
      "cell_type": "code",
      "source": [
        "d.items()"
      ],
      "metadata": {
        "colab": {
          "base_uri": "https://localhost:8080/"
        },
        "id": "OL-lwUHWWZCv",
        "outputId": "01209319-4bb2-48c2-f472-fb38b8779c55"
      },
      "execution_count": null,
      "outputs": [
        {
          "output_type": "execute_result",
          "data": {
            "text/plain": [
              "dict_items([('name', ['Meghana Reddy']), ('place', 'Hyderabad'), ('btech_CGPA', ['overall:7.0']), ('telnumbers', {'mobile_home': 99485, 'mobile_clg': 63034}), ('adhar_num', 12345), ('pan_num', 67891)])"
            ]
          },
          "metadata": {},
          "execution_count": 20
        }
      ]
    },
    {
      "cell_type": "code",
      "source": [
        "for k,v in d.items():\n",
        "    print(f'Key is{k},Value is{v}')"
      ],
      "metadata": {
        "colab": {
          "base_uri": "https://localhost:8080/"
        },
        "id": "qUo1gGpGWu51",
        "outputId": "9da9015e-dde1-4846-8694-8b39476c33f9"
      },
      "execution_count": null,
      "outputs": [
        {
          "output_type": "stream",
          "name": "stdout",
          "text": [
            "Key isname,Value is['Meghana Reddy']\n",
            "Key isplace,Value isHyderabad\n",
            "Key isbtech_CGPA,Value is['overall:7.0']\n",
            "Key istelnumbers,Value is{'mobile_home': 99485, 'mobile_clg': 63034}\n",
            "Key isadhar_num,Value is12345\n",
            "Key ispan_num,Value is67891\n"
          ]
        }
      ]
    },
    {
      "cell_type": "code",
      "source": [
        "list(d)"
      ],
      "metadata": {
        "colab": {
          "base_uri": "https://localhost:8080/"
        },
        "id": "g7d40AevYtzZ",
        "outputId": "2b87243b-3b0c-4763-f819-4178c2c3227b"
      },
      "execution_count": null,
      "outputs": [
        {
          "output_type": "execute_result",
          "data": {
            "text/plain": [
              "['name', 'place', 'btech_CGPA', 'telnumbers', 'adhar_num', 'pan_num']"
            ]
          },
          "metadata": {},
          "execution_count": 31
        }
      ]
    },
    {
      "cell_type": "code",
      "source": [
        "tuple(d)"
      ],
      "metadata": {
        "colab": {
          "base_uri": "https://localhost:8080/"
        },
        "id": "lNApri8qaO6C",
        "outputId": "609bc831-582f-492f-f521-aec5ea55ce69"
      },
      "execution_count": null,
      "outputs": [
        {
          "output_type": "execute_result",
          "data": {
            "text/plain": [
              "('name', 'place', 'btech_CGPA', 'telnumbers', 'adhar_num', 'pan_num')"
            ]
          },
          "metadata": {},
          "execution_count": 32
        }
      ]
    },
    {
      "cell_type": "code",
      "source": [
        "tuple(d.items())"
      ],
      "metadata": {
        "colab": {
          "base_uri": "https://localhost:8080/"
        },
        "id": "pRR-4P80aZUP",
        "outputId": "fceeca4b-e27e-4d65-ac7f-687a6e7cb164"
      },
      "execution_count": null,
      "outputs": [
        {
          "output_type": "execute_result",
          "data": {
            "text/plain": [
              "(('name', ['Meghana Reddy']),\n",
              " ('place', 'Hyderabad'),\n",
              " ('btech_CGPA', ['overall:7.0']),\n",
              " ('telnumbers', {'mobile_home': 99485, 'mobile_clg': 63034}),\n",
              " ('adhar_num', 12345),\n",
              " ('pan_num', 67891))"
            ]
          },
          "metadata": {},
          "execution_count": 36
        }
      ]
    },
    {
      "cell_type": "code",
      "source": [
        "lst_a=[5,20.5,18]\n",
        "lst_a.extend([10,40])\n",
        "lst_a"
      ],
      "metadata": {
        "colab": {
          "base_uri": "https://localhost:8080/"
        },
        "id": "VJNf0vF2nnFM",
        "outputId": "da3ac4e4-2de6-498e-ff21-1c3a553bdc9d"
      },
      "execution_count": null,
      "outputs": [
        {
          "output_type": "execute_result",
          "data": {
            "text/plain": [
              "[5, 20.5, 18, 10, 40]"
            ]
          },
          "metadata": {},
          "execution_count": 1
        }
      ]
    },
    {
      "cell_type": "code",
      "source": [
        "lst_a.append([2,3])\n",
        "lst_a"
      ],
      "metadata": {
        "colab": {
          "base_uri": "https://localhost:8080/"
        },
        "id": "W-o6HP13oGfK",
        "outputId": "8952a154-a8b3-4f0e-d07a-0e98a2dfd7d9"
      },
      "execution_count": null,
      "outputs": [
        {
          "output_type": "execute_result",
          "data": {
            "text/plain": [
              "[5, 20.5, 18, 10, 40, [2, 3]]"
            ]
          },
          "metadata": {},
          "execution_count": 2
        }
      ]
    },
    {
      "cell_type": "code",
      "source": [
        "lst_a.extend([\"Meghana\"])\n",
        "lst_a"
      ],
      "metadata": {
        "colab": {
          "base_uri": "https://localhost:8080/"
        },
        "id": "-OAu3yMdoRPL",
        "outputId": "35cb8cc5-84e3-4f6a-9000-25587b29ea48"
      },
      "execution_count": null,
      "outputs": [
        {
          "output_type": "execute_result",
          "data": {
            "text/plain": [
              "[5, 20.5, 18, 10, 40, [2, 3], 'Meghana']"
            ]
          },
          "metadata": {},
          "execution_count": 3
        }
      ]
    },
    {
      "cell_type": "code",
      "source": [
        "7+10-3"
      ],
      "metadata": {
        "colab": {
          "base_uri": "https://localhost:8080/"
        },
        "id": "Fe0ZKvUuPM17",
        "outputId": "8fefb4ef-bd51-4c3e-897a-a181ed4bc889"
      },
      "execution_count": null,
      "outputs": [
        {
          "output_type": "execute_result",
          "data": {
            "text/plain": [
              "14"
            ]
          },
          "metadata": {},
          "execution_count": 1
        }
      ]
    },
    {
      "cell_type": "code",
      "source": [
        "for itr in[1,2,3]:\n",
        "    print(f'Sqr is{itr**2}')"
      ],
      "metadata": {
        "colab": {
          "base_uri": "https://localhost:8080/"
        },
        "id": "O0jNAiBYS3AJ",
        "outputId": "acf37121-652e-4285-b42d-ae9e79e1643c"
      },
      "execution_count": null,
      "outputs": [
        {
          "output_type": "stream",
          "name": "stdout",
          "text": [
            "Sqr is1\n",
            "Sqr is4\n",
            "Sqr is9\n"
          ]
        }
      ]
    },
    {
      "cell_type": "code",
      "source": [
        "for itr in[1,2,3]:\n",
        "    print(f'sqr is{itr**2}')"
      ],
      "metadata": {
        "colab": {
          "base_uri": "https://localhost:8080/"
        },
        "id": "oD6OURlxTdtL",
        "outputId": "cd805565-de76-4f53-ae95-de60d9cbadc8"
      },
      "execution_count": null,
      "outputs": [
        {
          "output_type": "stream",
          "name": "stdout",
          "text": [
            "sqr is1\n",
            "sqr is4\n",
            "sqr is9\n"
          ]
        }
      ]
    },
    {
      "cell_type": "code",
      "source": [
        "lst_nums=[20,35,56,49]\n",
        "for itr in lst_nums:\n",
        "                  if (itr%2==0):\n",
        "                      print(f'sqr is {itr**2}')\n",
        "                  else:\n",
        "                      pass"
      ],
      "metadata": {
        "id": "5nGUVhoQTjv0",
        "colab": {
          "base_uri": "https://localhost:8080/"
        },
        "outputId": "cd0a2953-171c-43d3-ec7e-751d1d51e6dc"
      },
      "execution_count": null,
      "outputs": [
        {
          "output_type": "stream",
          "name": "stdout",
          "text": [
            "sqr is 400\n",
            "sqr is 3136\n"
          ]
        }
      ]
    },
    {
      "cell_type": "code",
      "source": [
        "while itr<10:\n",
        "    print(f'Hello{itr}')\n",
        "    itr+=1"
      ],
      "metadata": {
        "id": "9VxTJaSlV26X"
      },
      "execution_count": null,
      "outputs": []
    },
    {
      "cell_type": "code",
      "source": [
        "while 0:\n",
        "    print('Hello True')"
      ],
      "metadata": {
        "id": "llNHri4mZ7YV"
      },
      "execution_count": null,
      "outputs": []
    },
    {
      "cell_type": "code",
      "source": [
        "range(0,6)\n",
        "for itr in range(4):\n",
        "    print ('RAMESH'[itr])"
      ],
      "metadata": {
        "colab": {
          "base_uri": "https://localhost:8080/"
        },
        "id": "ms3js8XceaNY",
        "outputId": "1768b589-e0f6-467b-bcd5-130379c92f4a"
      },
      "execution_count": null,
      "outputs": [
        {
          "output_type": "stream",
          "name": "stdout",
          "text": [
            "R\n",
            "A\n",
            "M\n",
            "E\n"
          ]
        }
      ]
    },
    {
      "cell_type": "code",
      "source": [],
      "metadata": {
        "id": "LPoxnHVGeq_S"
      },
      "execution_count": null,
      "outputs": []
    },
    {
      "cell_type": "code",
      "source": [],
      "metadata": {
        "id": "vg3TbzA6dt6G"
      },
      "execution_count": null,
      "outputs": []
    },
    {
      "cell_type": "code",
      "source": [
        "range(0,6)\n",
        "for itr in range(6):\n",
        "    print ('RAMESH'[itr])"
      ],
      "metadata": {
        "colab": {
          "base_uri": "https://localhost:8080/"
        },
        "id": "YO5e8vxYduDg",
        "outputId": "b638a3d3-a657-4e0d-fe04-38a5a90e8925"
      },
      "execution_count": null,
      "outputs": [
        {
          "output_type": "stream",
          "name": "stdout",
          "text": [
            "R\n",
            "A\n",
            "M\n",
            "E\n",
            "S\n",
            "H\n"
          ]
        }
      ]
    },
    {
      "cell_type": "code",
      "source": [
        "7-10+2"
      ],
      "metadata": {
        "id": "U6WOdKCwPXNE",
        "outputId": "9a60a941-368e-42e5-f009-c83a66bbe251",
        "colab": {
          "base_uri": "https://localhost:8080/"
        }
      },
      "execution_count": null,
      "outputs": [
        {
          "output_type": "execute_result",
          "data": {
            "text/plain": [
              "-1"
            ]
          },
          "metadata": {},
          "execution_count": 2
        }
      ]
    },
    {
      "cell_type": "code",
      "source": [
        "Var1=\"Hello World\"\n",
        "Var2=\"Python Programming\"\n",
        "Var3=(1,2,3)\n",
        "type(Var3)"
      ],
      "metadata": {
        "colab": {
          "base_uri": "https://localhost:8080/"
        },
        "id": "is0fQyKQQKZD",
        "outputId": "c35cf2dd-725d-40e6-e835-8c87abd29fe8"
      },
      "execution_count": null,
      "outputs": [
        {
          "output_type": "execute_result",
          "data": {
            "text/plain": [
              "tuple"
            ]
          },
          "metadata": {},
          "execution_count": 5
        }
      ]
    },
    {
      "cell_type": "code",
      "source": [
        "a='Rameshameshbamesh'\n",
        "a.replace('me','ME')"
      ],
      "metadata": {
        "colab": {
          "base_uri": "https://localhost:8080/",
          "height": 36
        },
        "id": "cZYHVDkAUtDN",
        "outputId": "ec38d8a4-83f3-4a34-c40d-bf61f223e6cc"
      },
      "execution_count": null,
      "outputs": [
        {
          "output_type": "execute_result",
          "data": {
            "text/plain": [
              "'RaMEshaMEshbaMEsh'"
            ],
            "application/vnd.google.colaboratory.intrinsic+json": {
              "type": "string"
            }
          },
          "metadata": {},
          "execution_count": 6
        }
      ]
    },
    {
      "cell_type": "code",
      "source": [
        "a='Rameshameshbamesh'\n",
        "a.find('am',3)"
      ],
      "metadata": {
        "colab": {
          "base_uri": "https://localhost:8080/"
        },
        "id": "jlnnXMq8VE_x",
        "outputId": "474a6de6-13bc-4dbe-f11b-c2bb9857a045"
      },
      "execution_count": null,
      "outputs": [
        {
          "output_type": "execute_result",
          "data": {
            "text/plain": [
              "6"
            ]
          },
          "metadata": {},
          "execution_count": 10
        }
      ]
    },
    {
      "cell_type": "code",
      "source": [
        "a,b,c=1000,2000,3000"
      ],
      "metadata": {
        "id": "rHeHXue_94K7"
      },
      "execution_count": null,
      "outputs": []
    },
    {
      "cell_type": "code",
      "source": [
        "a_b_c=1,000,000"
      ],
      "metadata": {
        "id": "oiPQVvOP9-eD"
      },
      "execution_count": null,
      "outputs": []
    },
    {
      "cell_type": "code",
      "source": [
        "import math\n",
        "int(math.sqrt(16))\n",
        "float(10)"
      ],
      "metadata": {
        "id": "QenhV1aLEJ_z"
      },
      "execution_count": null,
      "outputs": []
    },
    {
      "cell_type": "code",
      "source": [
        "a=1\n",
        "a=a+1\n",
        "a+=1"
      ],
      "metadata": {
        "id": "gZf0WVSU-QZT"
      },
      "execution_count": null,
      "outputs": []
    }
  ]
}